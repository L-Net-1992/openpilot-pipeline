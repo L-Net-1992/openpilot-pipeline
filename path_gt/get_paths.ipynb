{
 "cells": [
  {
   "cell_type": "code",
   "execution_count": 1,
   "id": "b3ae5e7e",
   "metadata": {},
   "outputs": [
    {
     "name": "stdout",
     "output_type": "stream",
     "text": [
      "Warning: Basemap package cannot be imported | No module named 'mpl_toolkits.basemap'  error detected - Groundtrack plot disabled!\n"
     ]
    }
   ],
   "source": [
    "import os\n",
    "import sys\n",
    "import time\n",
    "import glob\n",
    "\n",
    "# dependencies that come with Openpilot\n",
    "import numpy as np\n",
    "import scipy\n",
    "import matplotlib.pyplot as plt\n",
    "from PIL import Image\n",
    "import cv2\n",
    "from tqdm import tqdm\n",
    "\n",
    "# separate dependencies\n",
    "import imageio\n",
    "\n",
    "# Openpilot, Openpilot Tools and Laika\n",
    "from common.transformations.camera import img_from_device, denormalize\n",
    "from tools.lib.logreader import LogReader\n",
    "from tools.lib.framereader import FrameReader, FrameIterator\n",
    "import laika.lib.coordinates as coord\n",
    "import laika.lib.orientation as orient"
   ]
  },
  {
   "cell_type": "code",
   "execution_count": 2,
   "id": "c4003a91",
   "metadata": {},
   "outputs": [],
   "source": [
    "DATA_BASE_DIR = '/data/realdata/aba20ae4/'"
   ]
  },
  {
   "cell_type": "code",
   "execution_count": 3,
   "id": "160c0598",
   "metadata": {},
   "outputs": [],
   "source": [
    "def for_each_segment(func, **kwargs):\n",
    "    '''Call `func` on each segment.'''\n",
    "    segment_dirs = glob.glob(os.path.join(DATA_BASE_DIR, '*/*/2021-*-*--*-*-*/'))\n",
    "    segment_dirs = sorted(segment_dirs, key=lambda p: os.path.basename(os.path.dirname(p)))\n",
    "\n",
    "    for base_dir in segment_dirs:\n",
    "        parts = sorted(set(os.listdir(base_dir)) - set(['qcamera.m3u8']), key=lambda p: int(p))\n",
    "        parts = [os.path.join(base_dir, part) for part in parts]\n",
    "        for part in parts:\n",
    "            func(part, **kwargs)"
   ]
  },
  {
   "cell_type": "code",
   "execution_count": 4,
   "id": "c13d8aed",
   "metadata": {},
   "outputs": [],
   "source": [
    "def read_poses(segment_dir, logfile='rlog.bz2'):\n",
    "    logs = LogReader(os.path.join(segment_dir, logfile))\n",
    "    \n",
    "    kalman_msgs = [m.liveLocationKalman for m in logs if m.which() == 'liveLocationKalman']\n",
    "    \n",
    "    poses = {\n",
    "        'positions_ecef': np.array([m.positionECEF.value for m in kalman_msgs]),\n",
    "        'velocities_calib': np.array([m.velocityCalibrated.value for m in kalman_msgs]),\n",
    "        'velocities_ecef': np.array([m.velocityECEF.value for m in kalman_msgs]),\n",
    "        'accelerations_calib': np.array([m.accelerationCalibrated.value for m in kalman_msgs]),\n",
    "        'accelerations_device': np.array([m.accelerationDevice.value for m in kalman_msgs]),\n",
    "        'orientations_calib': np.array([m.calibratedOrientationECEF.value for m in kalman_msgs]),\n",
    "        'orientations_ecef': np.array([m.orientationECEF.value for m in kalman_msgs]),\n",
    "        'angular_velocities_calib': np.array([m.angularVelocityCalibrated.value for m in kalman_msgs]),\n",
    "        'angular_velocities_device': np.array([m.angularVelocityDevice.value for m in kalman_msgs]),\n",
    "        'times': np.array([m.unixTimestampMillis for m in kalman_msgs]),\n",
    "    }\n",
    "    if len(poses['orientations_ecef']) > 0:\n",
    "        poses['orientations_euler'] = orient.euler2quat(poses['orientations_ecef'])\n",
    "\n",
    "    status = {\n",
    "        'positions': np.array([m.positionECEF.valid for m in kalman_msgs]),\n",
    "        'velocities': np.array([m.velocityECEF.valid for m in kalman_msgs]),\n",
    "        'accelerations': np.array([m.accelerationCalibrated.valid for m in kalman_msgs]),\n",
    "        'orientations_calib': np.array([m.calibratedOrientationECEF.valid for m in kalman_msgs]),\n",
    "        'angular_velocities_calib': np.array([m.angularVelocityCalibrated.valid for m in kalman_msgs]),\n",
    "        'status': np.array([m.status for m in kalman_msgs]),\n",
    "        'inputsOK': np.array([m.inputsOK for m in kalman_msgs]),\n",
    "        'posenetOK': np.array([m.posenetOK for m in kalman_msgs]),\n",
    "        'gpsOK': np.array([m.gpsOK for m in kalman_msgs]),\n",
    "        'sensorsOK': np.array([m.sensorsOK for m in kalman_msgs]),\n",
    "        'deviceStable': np.array([m.deviceStable for m in kalman_msgs]),\n",
    "        'excessiveResets': np.array([m.excessiveResets for m in kalman_msgs]),\n",
    "    }\n",
    "        \n",
    "    return poses, status\n",
    "\n",
    "\n",
    "def is_valid_segment(statuses):\n",
    "    checks = {\n",
    "        'gpsOK': np.all(statuses['gpsOK'] == True),\n",
    "        'sensorsOK': np.all(statuses['sensorsOK'] == True),\n",
    "        'inputsOK': np.all(statuses['inputsOK'] == True),\n",
    "        'deviceStable': np.all(statuses['deviceStable'] == True),\n",
    "        'positionsValid': np.all(statuses['positions'] == True),\n",
    "        'velocitiesValid': np.all(statuses['velocities'] == True),\n",
    "        'orientations_calibValid': np.all(statuses['orientations_calib'] == True),\n",
    "        'angular_velocities_calibValid': np.all(statuses['angular_velocities_calib'] == True),\n",
    "        'allValid': np.all([str(i) == 'valid' for i in statuses['status']]),\n",
    "        'notEmpty': len(statuses['status'] > 0)\n",
    "    }\n",
    "    all_good = np.all(list(checks.values()))\n",
    "    \n",
    "    if not all_good:\n",
    "        for check, value in checks.items():\n",
    "            if not value:\n",
    "                print(f'FAILED {check}.', end=' ')\n",
    "    \n",
    "    return all_good\n",
    "\n",
    "\n",
    "def save_segment_poses(segment_path, output_file='ground_truths.npz'):\n",
    "    print(f'Segment {\"/\".join(segment_path.split(\"/\")[-2:])}', end=' ')\n",
    "    try:\n",
    "        poses, statuses = read_poses(segment_path)\n",
    "    except:\n",
    "        print('Failed to read logs. Skipping segment.')\n",
    "        return\n",
    "    \n",
    "    if not is_valid_segment(statuses): \n",
    "        print('Skipping segment.')        \n",
    "        return\n",
    "    \n",
    "    ecef_positions = poses['positions_ecef']\n",
    "    euler_orientations = poses['orientations_euler']\n",
    "    \n",
    "    local_positions = []\n",
    "    \n",
    "    \n",
    "    for i in range(0, len(poses['positions_ecef'])):\n",
    "        ecef_from_local = orient.rot_from_quat(euler_orientations[i])\n",
    "        local_from_ecef = ecef_from_local.T\n",
    "        frame_positions_local = np.einsum('ij,kj->ki', local_from_ecef, ecef_positions - ecef_positions[i])\n",
    "        \n",
    "        if len(frame_positions_local) != 1200:\n",
    "            print(f'Read only {len(frame_positions_local)} positions. Skipping segment.')\n",
    "            return\n",
    "        \n",
    "        local_positions.append(frame_positions_local)\n",
    "            \n",
    "    poses['positions_device'] = np.array(local_positions)\n",
    "    \n",
    "    print(f'ALL GOOD')\n",
    "    np.savez_compressed(os.path.join(segment_path, output_file), **poses)  \n"
   ]
  },
  {
   "cell_type": "code",
   "execution_count": 5,
   "id": "f6d352b6",
   "metadata": {},
   "outputs": [],
   "source": [
    "def compress_frame(frame):\n",
    "    img = Image.fromarray((frame * 255).astype(np.uint8))\n",
    "    new_size = (img.size[0]//3, img.size[1]//3)\n",
    "    img = img.resize(new_size, Image.LANCZOS)        \n",
    "    return np.array(img)\n",
    "   \n",
    "\n",
    "def save2gif(filenames, out='test.gif'):\n",
    "    with imageio.get_writer(out, mode='I') as writer:\n",
    "        for filename in filenames:\n",
    "            image = imageio.imread(filename)\n",
    "            writer.append_data(compress_frame(image))"
   ]
  },
  {
   "cell_type": "code",
   "execution_count": 6,
   "id": "71112d14",
   "metadata": {},
   "outputs": [],
   "source": [
    "def get_poses(segment_path, kind='liveKalman'):\n",
    "    if kind == 'liveKalman':\n",
    "        poses, statuses = read_poses(example_segment)\n",
    "        frame_positions = poses['positions_ecef']\n",
    "        frame_orientations_ecef = poses['orientations_calib']\n",
    "        frame_orientations = orient.euler2quat(frame_orientations_ecef)\n",
    "    elif kind == 'comma2k19':\n",
    "        frame_positions = np.load(example_segment + 'global_pose/frame_positions')\n",
    "        frame_orientations = np.load(example_segment + 'global_pose/frame_orientations')\n",
    "    elif kind == 'laika':\n",
    "        raise NotImplementedError('laika')\n",
    "    \n",
    "    return frame_positions, frame_orientations\n",
    "\n",
    "\n",
    "def draw_path(device_path, img, width=1, height=1.2, fill_color=(128,0,255), line_color=(0,255,0)):\n",
    "    device_path_l = device_path + np.array([0, 0, height])                                                                    \n",
    "    device_path_r = device_path + np.array([0, 0, height])                                                                    \n",
    "    device_path_l[:,1] -= width                                                                                               \n",
    "    device_path_r[:,1] += width\n",
    "\n",
    "    img_points_norm_l = img_from_device(device_path_l)\n",
    "    img_points_norm_r = img_from_device(device_path_r)\n",
    "    img_pts_l = denormalize(img_points_norm_l)\n",
    "    img_pts_r = denormalize(img_points_norm_r)\n",
    "\n",
    "    # filter out things rejected along the way\n",
    "    valid = np.logical_and(np.isfinite(img_pts_l).all(axis=1), np.isfinite(img_pts_r).all(axis=1))\n",
    "    img_pts_l = img_pts_l[valid].astype(int)\n",
    "    img_pts_r = img_pts_r[valid].astype(int)\n",
    "\n",
    "    for i in range(1, len(img_pts_l)):\n",
    "        u1,v1,u2,v2 = np.append(img_pts_l[i-1], img_pts_r[i-1])\n",
    "        u3,v3,u4,v4 = np.append(img_pts_l[i], img_pts_r[i])\n",
    "        pts = np.array([[u1,v1],[u2,v2],[u4,v4],[u3,v3]], np.int32).reshape((-1,1,2))\n",
    "        cv2.fillPoly(img,[pts],fill_color)\n",
    "        cv2.polylines(img,[pts],True,line_color)\n",
    "\n",
    "\n",
    "def create_pose_gif(segment_path, output_file='path.gif', pix_fmt = 'rgb24', force=False):\n",
    "    print('Segment:', os.path.join(os.path.basename(os.path.dirname(segment_path))), os.path.basename(segment_path))\n",
    "    gt_file = os.path.join(segment_path, 'ground_truths.npz')\n",
    "    already_processed = False\n",
    "    \n",
    "    if os.path.exists(gt_file):\n",
    "        already_processed = True\n",
    "        gts = np.load(gt_file)\n",
    "        frame_positions = gts['positions_device']\n",
    "    elif force:\n",
    "        frame_positions, frame_orientations = get_poses(segment_path)\n",
    "    else:\n",
    "        print('No GT found:', segment_path)\n",
    "        return\n",
    "\n",
    "    fr = FrameReader(os.path.join(segment_path, 'fcamera.hevc'))\n",
    "\n",
    "    with imageio.get_writer(os.path.join(segment_path, output_file), mode='I') as writer:\n",
    "\n",
    "        for i in tqdm(range(0, fr.frame_count, 1*20)):\n",
    "            frame = fr.get(i, pix_fmt=pix_fmt)[0]\n",
    "            img = np.copy(frame)\n",
    "            img = (img + 1e-12) / 255.\n",
    "\n",
    "            if already_processed:\n",
    "                frame_positions_local = frame_positions[i]\n",
    "            else:\n",
    "                ecef_from_local = orient.rot_from_quat(frame_orientations[i])\n",
    "                local_from_ecef = ecef_from_local.T\n",
    "                frame_positions_local = np.einsum('ij,kj->ki', local_from_ecef, frame_positions - frame_positions[i])  \n",
    "\n",
    "            draw_path(frame_positions_local[i+1:i+250], img)\n",
    "            img = np.clip(img, 0, 1)\n",
    "            \n",
    "            writer.append_data(compress_frame(img))"
   ]
  },
  {
   "cell_type": "markdown",
   "id": "a32a06c8",
   "metadata": {},
   "source": [
    "# Save poses for all Lexus history"
   ]
  },
  {
   "cell_type": "code",
   "execution_count": null,
   "id": "2c387e8c",
   "metadata": {},
   "outputs": [],
   "source": [
    "for_each_segment(save_segment_poses)\n",
    "# for_each_segment(create_pose_gif)"
   ]
  },
  {
   "cell_type": "markdown",
   "id": "4df480df",
   "metadata": {},
   "source": [
    "# Example of usage"
   ]
  },
  {
   "cell_type": "code",
   "execution_count": 12,
   "id": "739acd8b",
   "metadata": {},
   "outputs": [],
   "source": [
    "segment_path = '/data/realdata/aba20ae4/06b5d227e8d0f0a632c4d0a7bd9e8f6e305ed1910848cd5597eecdfe8e6d0023/1b9935697c8f4671ca355e2acd851d99e249c50c9948256972c4b6b4b045fc8f/2021-09-14--09-19-21/8/'\n",
    "\n",
    "ground_truths = np.load(os.path.join(segment_path, 'ground_truths.npz'))"
   ]
  },
  {
   "cell_type": "code",
   "execution_count": 8,
   "id": "2bfffc31",
   "metadata": {
    "scrolled": true
   },
   "outputs": [
    {
     "data": {
      "text/plain": [
       "['positions_ecef',\n",
       " 'velocities_calib',\n",
       " 'velocities_ecef',\n",
       " 'accelerations_calib',\n",
       " 'accelerations_device',\n",
       " 'orientations_calib',\n",
       " 'orientations_ecef',\n",
       " 'angular_velocities_calib',\n",
       " 'angular_velocities_device',\n",
       " 'times',\n",
       " 'orientations_euler',\n",
       " 'positions_device']"
      ]
     },
     "execution_count": 8,
     "metadata": {},
     "output_type": "execute_result"
    }
   ],
   "source": [
    "list(ground_truths.keys())"
   ]
  },
  {
   "cell_type": "code",
   "execution_count": 9,
   "id": "69739b6e",
   "metadata": {},
   "outputs": [
    {
     "name": "stdout",
     "output_type": "stream",
     "text": [
      "(1200, 1200, 3)\n",
      "(1200, 4)\n"
     ]
    }
   ],
   "source": [
    "print(ground_truths['positions_device'].shape)\n",
    "print(ground_truths['orientations_euler'].shape)                    "
   ]
  },
  {
   "cell_type": "markdown",
   "id": "ae446a05",
   "metadata": {},
   "source": [
    "# Formatting ground truths for training"
   ]
  },
  {
   "cell_type": "code",
   "execution_count": null,
   "id": "6141e421",
   "metadata": {},
   "outputs": [],
   "source": [
    "# T_IDXS and X_IDXS taken from:\n",
    "# https://github.com/commaai/openpilot/blob/a7f36c9daf65f0642aa395c07c140d82bc2a7a1e/selfdrive/common/modeldata.h\n",
    "\n",
    "T_IDXS = [0.        ,  0.00976562,  0.0390625 ,  0.08789062,  0.15625   ,\n",
    "        0.24414062,  0.3515625 ,  0.47851562,  0.625     ,  0.79101562,\n",
    "        0.9765625 ,  1.18164062,  1.40625   ,  1.65039062,  1.9140625 ,\n",
    "        2.19726562,  2.5       ,  2.82226562,  3.1640625 ,  3.52539062,\n",
    "        3.90625   ,  4.30664062,  4.7265625 ,  5.16601562,  5.625     ,\n",
    "        6.10351562,  6.6015625 ,  7.11914062,  7.65625   ,  8.21289062,\n",
    "        8.7890625 ,  9.38476562, 10.]\n",
    "\n",
    "X_IDXS = [\n",
    "         0.    ,   0.1875,   0.75  ,   1.6875,   3.    ,   4.6875,\n",
    "         6.75  ,   9.1875,  12.    ,  15.1875,  18.75  ,  22.6875,\n",
    "        27.    ,  31.6875,  36.75  ,  42.1875,  48.    ,  54.1875,\n",
    "        60.75  ,  67.6875,  75.    ,  82.6875,  90.75  ,  99.1875,\n",
    "       108.    , 117.1875, 126.75  , 136.6875, 147.    , 157.6875,\n",
    "       168.75  , 180.1875, 192.]"
   ]
  },
  {
   "cell_type": "code",
   "execution_count": 189,
   "id": "d703a7bf",
   "metadata": {},
   "outputs": [
    {
     "data": {
      "text/plain": [
       "[<matplotlib.lines.Line2D at 0x7f099801f8b0>]"
      ]
     },
     "execution_count": 189,
     "metadata": {},
     "output_type": "execute_result"
    },
    {
     "data": {
      "image/png": "[encoded data removed]",
      "text/plain": [
       "<Figure size 432x288 with 1 Axes>"
      ]
     },
     "metadata": {
      "needs_background": "light"
     },
     "output_type": "display_data"
    }
   ],
   "source": [
    "plt.plot(T_IDXS)"
   ]
  },
  {
   "cell_type": "code",
   "execution_count": 188,
   "id": "4675951f",
   "metadata": {
    "scrolled": true
   },
   "outputs": [],
   "source": [
    "def format_segment_plans_gt(ground_truths):\n",
    "    '''Convert segment's path to a format suitable for NN training.\n",
    "    \n",
    "    Uses this format: https://github.com/commaai/openpilot/blob/eaaccaa3d82f2cff0a4c78014f798edc476886a5/models/README.md\n",
    "    \n",
    "    Return: [B, 1, 33, 15]     B - batch dimension, which can vary.\n",
    "    '''\n",
    "    plans_gt = []\n",
    "\n",
    "    for step in tqdm(range(0, len(ground_truths['positions_device']))):\n",
    "\n",
    "        times = ground_truths['times']/1000\n",
    "        times_rel = times - times[step]\n",
    "        times_rel\n",
    "\n",
    "        future_steps = []\n",
    "\n",
    "        t_idx = 0\n",
    "\n",
    "        for idx, t in enumerate(times_rel):\n",
    "            if t_idx >= len(T_IDXS): break\n",
    "            if t >= T_IDXS[t_idx]:\n",
    "                future_steps.append(idx)\n",
    "                t_idx +=1\n",
    "\n",
    "        if len(future_steps) < 33:\n",
    "            break\n",
    "\n",
    "        positions = ground_truths['positions_device'][step][future_steps] # maybe should calibrate?\n",
    "        velocities = ground_truths['velocities_calib'][future_steps]\n",
    "        accelerations = ground_truths['accelerations_calib'][future_steps]\n",
    "        orientations = ground_truths['orientations_calib'][future_steps]\n",
    "        orientation_rates = ground_truths['angular_velocities_calib'][future_steps]\n",
    "        \n",
    "        plan = np.hstack([positions, velocities, accelerations, orientations, orientation_rates]) # (33, 15)\n",
    "        plan = np.expand_dims(plan, 0) # (1, 33, 15)\n",
    "        plans_gt.append(plan)\n",
    "\n",
    "    return np.stack(plans_gt) # (1000, 1, 33, 15)"
   ]
  },
  {
   "cell_type": "code",
   "execution_count": 186,
   "id": "8fd3524c",
   "metadata": {},
   "outputs": [
    {
     "data": {
      "text/plain": [
       "(1000, 1, 33, 15)"
      ]
     },
     "execution_count": 186,
     "metadata": {},
     "output_type": "execute_result"
    }
   ],
   "source": [
    "plans_gt = format_segment_plans_gt(ground_truths)\n",
    "plans_gt.shape"
   ]
  },
  {
   "cell_type": "code",
   "execution_count": 184,
   "id": "ed5d6001",
   "metadata": {},
   "outputs": [
    {
     "name": "stdout",
     "output_type": "stream",
     "text": [
      "[51.68832393 -2.041938   -3.01289854] x,y,z position\n",
      "[12.8582997   0.02553609 -0.40659708] x,y,z velocity\n",
      "[ 0.07485709 -0.00094826 -0.13331131] x,y,z acceleration\n",
      "[-2.88844558 -0.49680533 -3.09160612] raw,pitch,yaw\n",
      "[ 0.01039961  0.0074509  -0.01146076] raw,pitch,yaw rate\n"
     ]
    }
   ],
   "source": [
    "# Plan for a future 20th step at t=100\n",
    "print(plans_gt[100, 0, 20, 0:3], 'x,y,z position')\n",
    "print(plans_gt[100, 0, 20, 3:6], 'x,y,z velocity')\n",
    "print(plans_gt[100, 0, 20, 6:9], 'x,y,z acceleration')\n",
    "print(plans_gt[100, 0, 20, 9:12], 'raw,pitch,yaw')\n",
    "print(plans_gt[100, 0, 20, 12:15], 'raw,pitch,yaw rate')"
   ]
  },
  {
   "cell_type": "code",
   "execution_count": null,
   "id": "d1cb9332",
   "metadata": {},
   "outputs": [],
   "source": []
  }
 ],
 "metadata": {
  "kernelspec": {
   "display_name": "Python 3 (ipykernel)",
   "language": "python",
   "name": "python3"
  },
  "language_info": {
   "codemirror_mode": {
    "name": "ipython",
    "version": 3
   },
   "file_extension": ".py",
   "mimetype": "text/x-python",
   "name": "python",
   "nbconvert_exporter": "python",
   "pygments_lexer": "ipython3",
   "version": "3.8.10"
  }
 },
 "nbformat": 4,
 "nbformat_minor": 5
}
