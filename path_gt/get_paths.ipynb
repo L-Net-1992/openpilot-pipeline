{
 "cells": [
  {
   "cell_type": "code",
   "execution_count": 1,
   "id": "b3ae5e7e",
   "metadata": {},
   "outputs": [],
   "source": [
    "import os\n",
    "import sys\n",
    "import time\n",
    "import glob\n",
    "\n",
    "# dependencies that come with Openpilot\n",
    "import numpy as np\n",
    "import scipy\n",
    "import matplotlib.pyplot as plt\n",
    "from PIL import Image\n",
    "import cv2\n",
    "from tqdm import tqdm\n",
    "\n",
    "# separate dependencies\n",
    "import imageio\n",
    "\n",
    "# Openpilot, Openpilot Tools and Laika\n",
    "from common.transformations.camera import img_from_device, denormalize\n",
    "from tools.lib.logreader import LogReader\n",
    "from tools.lib.framereader import FrameReader, FrameIterator\n",
    "import laika.lib.coordinates as coord\n",
    "import laika.lib.orientation as orient"
   ]
  },
  {
   "cell_type": "code",
   "execution_count": 83,
   "id": "3f8a9912",
   "metadata": {},
   "outputs": [],
   "source": [
    "DATA_BASE_DIR = '/data/realdata/aba20ae4/'"
   ]
  },
  {
   "cell_type": "code",
   "execution_count": 101,
   "id": "a6d821aa",
   "metadata": {},
   "outputs": [],
   "source": [
    "def for_each_segment(func, **kwargs):\n",
    "    '''Call `func` on each segment.'''\n",
    "    segment_dirs = glob.glob(os.path.join(DATA_BASE_DIR, '*/*/2021-*-*--*-*-*/'))\n",
    "    segment_dirs = sorted(segment_dirs, key=lambda p: os.path.basename(os.path.dirname(p)))\n",
    "\n",
    "    for base_dir in segment_dirs:\n",
    "        parts = sorted(set(os.listdir(base_dir)) - set(['qcamera.m3u8']), key=lambda p: int(p))\n",
    "        parts = [os.path.join(base_dir, part) for part in parts]\n",
    "        for part in parts:\n",
    "            func(part, **kwargs)"
   ]
  },
  {
   "cell_type": "code",
   "execution_count": 2,
   "id": "c13d8aed",
   "metadata": {},
   "outputs": [],
   "source": [
    "def read_poses(segment_dir, logfile='rlog.bz2'):\n",
    "    logs = LogReader(os.path.join(segment_dir, logfile))\n",
    "    \n",
    "    kalman_msgs = [m.liveLocationKalman for m in logs if m.which() == 'liveLocationKalman']\n",
    "    \n",
    "    poses = {\n",
    "        'positions_ecef': np.array([m.positionECEF.value for m in kalman_msgs]),\n",
    "        'velocities_calib': np.array([m.velocityCalibrated.value for m in kalman_msgs]),\n",
    "        'velocities_ecef': np.array([m.velocityECEF.value for m in kalman_msgs]),\n",
    "        'accelerations_calib': np.array([m.accelerationCalibrated.value for m in kalman_msgs]),\n",
    "        'accelerations_device': np.array([m.accelerationDevice.value for m in kalman_msgs]),\n",
    "        'orientations_calib': np.array([m.calibratedOrientationECEF.value for m in kalman_msgs]),\n",
    "        'orientations_ecef': np.array([m.orientationECEF.value for m in kalman_msgs]),\n",
    "        'angular_velocities_calib': np.array([m.angularVelocityCalibrated.value for m in kalman_msgs]),\n",
    "        'angular_velocities_device': np.array([m.angularVelocityDevice.value for m in kalman_msgs]),\n",
    "        'times': np.array([m.unixTimestampMillis for m in kalman_msgs]),\n",
    "    }\n",
    "    if len(poses['orientations_ecef']) > 0:\n",
    "        poses['orientations_euler'] = orient.euler2quat(poses['orientations_ecef'])\n",
    "\n",
    "    status = {\n",
    "        'positions': np.array([m.positionECEF.valid for m in kalman_msgs]),\n",
    "        'velocities': np.array([m.velocityECEF.valid for m in kalman_msgs]),\n",
    "        'accelerations': np.array([m.accelerationCalibrated.valid for m in kalman_msgs]),\n",
    "        'orientations_calib': np.array([m.calibratedOrientationECEF.valid for m in kalman_msgs]),\n",
    "        'angular_velocities_calib': np.array([m.angularVelocityCalibrated.valid for m in kalman_msgs]),\n",
    "        'status': np.array([m.status for m in kalman_msgs]),\n",
    "        'inputsOK': np.array([m.inputsOK for m in kalman_msgs]),\n",
    "        'posenetOK': np.array([m.posenetOK for m in kalman_msgs]),\n",
    "        'gpsOK': np.array([m.gpsOK for m in kalman_msgs]),\n",
    "        'sensorsOK': np.array([m.sensorsOK for m in kalman_msgs]),\n",
    "        'deviceStable': np.array([m.deviceStable for m in kalman_msgs]),\n",
    "        'excessiveResets': np.array([m.excessiveResets for m in kalman_msgs]),\n",
    "    }\n",
    "        \n",
    "    return poses, status\n",
    "\n",
    "\n",
    "def is_valid_segment(statuses):\n",
    "    checks = {\n",
    "        'gpsOK': np.all(statuses['gpsOK'] == True),\n",
    "        'sensorsOK': np.all(statuses['sensorsOK'] == True),\n",
    "        'inputsOK': np.all(statuses['inputsOK'] == True),\n",
    "        'deviceStable': np.all(statuses['deviceStable'] == True),\n",
    "        'positionsValid': np.all(statuses['positions'] == True),\n",
    "        'velocitiesValid': np.all(statuses['velocities'] == True),\n",
    "        'orientations_calibValid': np.all(statuses['orientations_calib'] == True),\n",
    "        'angular_velocities_calibValid': np.all(statuses['angular_velocities_calib'] == True),\n",
    "        'allValid': np.all([str(i) == 'valid' for i in statuses['status']]),\n",
    "        'notEmpty': len(statuses['status'] > 0)\n",
    "    }\n",
    "    all_good = np.all(list(checks.values()))\n",
    "    \n",
    "    if not all_good:\n",
    "        for check, value in checks.items():\n",
    "            if not value:\n",
    "                print(f'FAILED {check}.', end=' ')\n",
    "    \n",
    "    return all_good\n",
    "\n",
    "\n",
    "def save_segment_poses(segment_path, output_file='ground_truths.npz'):\n",
    "    print(f'Segment {\"/\".join(segment_path.split(\"/\")[-2:])}', end=' ')\n",
    "    try:\n",
    "        poses, statuses = read_poses(segment_path)\n",
    "    except:\n",
    "        print('Failed to read logs. Skipping segment.')\n",
    "        return\n",
    "    \n",
    "    if not is_valid_segment(statuses): \n",
    "        print('Skipping segment.')        \n",
    "        return\n",
    "    \n",
    "    ecef_positions = poses['positions_ecef']\n",
    "    euler_orientations = poses['orientations_euler']\n",
    "    \n",
    "    local_positions = []\n",
    "    \n",
    "    \n",
    "    for i in range(0, len(poses['positions_ecef'])):\n",
    "        ecef_from_local = orient.rot_from_quat(euler_orientations[i])\n",
    "        local_from_ecef = ecef_from_local.T\n",
    "        frame_positions_local = np.einsum('ij,kj->ki', local_from_ecef, ecef_positions - ecef_positions[i])\n",
    "        \n",
    "        if len(frame_positions_local) != 1200:\n",
    "            print(f'Read only {len(frame_positions_local)} positions. Skipping segment.')\n",
    "            return\n",
    "        \n",
    "        local_positions.append(frame_positions_local)\n",
    "            \n",
    "    poses['positions_device'] = np.array(local_positions)\n",
    "    \n",
    "    print(f'ALL GOOD')\n",
    "    np.savez_compressed(os.path.join(segment_path, output_file), **poses)  \n"
   ]
  },
  {
   "cell_type": "code",
   "execution_count": 3,
   "id": "f6d352b6",
   "metadata": {},
   "outputs": [],
   "source": [
    "def compress_frame(frame):\n",
    "    img = Image.fromarray((frame * 255).astype(np.uint8))\n",
    "    new_size = (img.size[0]//3, img.size[1]//3)\n",
    "    img = img.resize(new_size, Image.LANCZOS)        \n",
    "    return np.array(img)\n",
    "   \n",
    "\n",
    "def save2gif(filenames, out='test.gif'):\n",
    "    with imageio.get_writer(out, mode='I') as writer:\n",
    "        for filename in filenames:\n",
    "            image = imageio.imread(filename)\n",
    "            writer.append_data(compress_frame(image))"
   ]
  },
  {
   "cell_type": "code",
   "execution_count": 62,
   "id": "71112d14",
   "metadata": {},
   "outputs": [],
   "source": [
    "def get_poses(segment_path, kind='liveKalman'):\n",
    "    if kind == 'liveKalman':\n",
    "        poses, statuses = read_poses(example_segment)\n",
    "        frame_positions = poses['positions_ecef']\n",
    "        frame_orientations_ecef = poses['orientations_calib']\n",
    "        frame_orientations = orient.euler2quat(frame_orientations_ecef)\n",
    "    elif kind == 'comma2k19':\n",
    "        frame_positions = np.load(example_segment + 'global_pose/frame_positions')\n",
    "        frame_orientations = np.load(example_segment + 'global_pose/frame_orientations')\n",
    "    elif kind == 'laika':\n",
    "        raise NotImplementedError('laika')\n",
    "    \n",
    "    return frame_positions, frame_orientations\n",
    "\n",
    "\n",
    "def draw_path(device_path, img, width=1, height=1.2, fill_color=(128,0,255), line_color=(0,255,0)):\n",
    "    device_path_l = device_path + np.array([0, 0, height])                                                                    \n",
    "    device_path_r = device_path + np.array([0, 0, height])                                                                    \n",
    "    device_path_l[:,1] -= width                                                                                               \n",
    "    device_path_r[:,1] += width\n",
    "\n",
    "    img_points_norm_l = img_from_device(device_path_l)\n",
    "    img_points_norm_r = img_from_device(device_path_r)\n",
    "    img_pts_l = denormalize(img_points_norm_l)\n",
    "    img_pts_r = denormalize(img_points_norm_r)\n",
    "\n",
    "    # filter out things rejected along the way\n",
    "    valid = np.logical_and(np.isfinite(img_pts_l).all(axis=1), np.isfinite(img_pts_r).all(axis=1))\n",
    "    img_pts_l = img_pts_l[valid].astype(int)\n",
    "    img_pts_r = img_pts_r[valid].astype(int)\n",
    "\n",
    "    for i in range(1, len(img_pts_l)):\n",
    "        u1,v1,u2,v2 = np.append(img_pts_l[i-1], img_pts_r[i-1])\n",
    "        u3,v3,u4,v4 = np.append(img_pts_l[i], img_pts_r[i])\n",
    "        pts = np.array([[u1,v1],[u2,v2],[u4,v4],[u3,v3]], np.int32).reshape((-1,1,2))\n",
    "        cv2.fillPoly(img,[pts],fill_color)\n",
    "        cv2.polylines(img,[pts],True,line_color)\n",
    "\n",
    "\n",
    "def create_pose_gif(segment_path, output_file='path.gif', pix_fmt = 'rgb24', force=False):\n",
    "    print('Segment:', os.path.join(os.path.basename(os.path.dirname(segment_path))), os.path.basename(segment_path))\n",
    "    gt_file = os.path.join(segment_path, 'ground_truths.npz')\n",
    "    already_processed = False\n",
    "    \n",
    "    if os.path.exists(gt_file):\n",
    "        already_processed = True\n",
    "        gts = np.load(gt_file)\n",
    "        frame_positions = gts['positions_device']\n",
    "    elif force:\n",
    "        frame_positions, frame_orientations = get_poses(segment_path)\n",
    "    else:\n",
    "        print('No GT found:', segment_path)\n",
    "        return\n",
    "\n",
    "    fr = FrameReader(os.path.join(segment_path, 'fcamera.hevc'))\n",
    "\n",
    "    with imageio.get_writer(os.path.join(segment_path, output_file), mode='I') as writer:\n",
    "\n",
    "        for i in tqdm(range(0, fr.frame_count, 1*20)):\n",
    "            frame = fr.get(i, pix_fmt=pix_fmt)[0]\n",
    "            img = np.copy(frame)\n",
    "            img = (img + 1e-12) / 255.\n",
    "\n",
    "            if already_processed:\n",
    "                frame_positions_local = frame_positions[i]\n",
    "            else:\n",
    "                ecef_from_local = orient.rot_from_quat(frame_orientations[i])\n",
    "                local_from_ecef = ecef_from_local.T\n",
    "                frame_positions_local = np.einsum('ij,kj->ki', local_from_ecef, frame_positions - frame_positions[i])  \n",
    "\n",
    "            draw_path(frame_positions_local[i+1:i+250], img)\n",
    "            img = np.clip(img, 0, 1)\n",
    "            \n",
    "            writer.append_data(compress_frame(img))"
   ]
  },
  {
   "cell_type": "markdown",
   "id": "8a8097f5",
   "metadata": {},
   "source": [
    "# Save poses for all Lexus history"
   ]
  },
  {
   "cell_type": "code",
   "execution_count": null,
   "id": "f2a1c827",
   "metadata": {},
   "outputs": [],
   "source": [
    "for_each_segment(save_segment_poses)\n",
    "# for_each_segment(create_pose_gif)"
   ]
  },
  {
   "cell_type": "markdown",
   "id": "2bf32d78",
   "metadata": {},
   "source": [
    "# Example of usage"
   ]
  },
  {
   "cell_type": "code",
   "execution_count": 103,
   "id": "739acd8b",
   "metadata": {},
   "outputs": [],
   "source": [
    "segment_path = '/data/realdata/aba20ae4/06b5d227e8d0f0a632c4d0a7bd9e8f6e305ed1910848cd5597eecdfe8e6d0023/1b9935697c8f4671ca355e2acd851d99e249c50c9948256972c4b6b4b045fc8f/2021-09-14--09-19-21/7'\n",
    "\n",
    "ground_truths = np.load(os.path.join(segment_path, 'ground_truths.npz'))"
   ]
  },
  {
   "cell_type": "code",
   "execution_count": 104,
   "id": "2bfffc31",
   "metadata": {
    "scrolled": true
   },
   "outputs": [
    {
     "data": {
      "text/plain": [
       "['positions_ecef',\n",
       " 'velocities_calib',\n",
       " 'velocities_ecef',\n",
       " 'accelerations_calib',\n",
       " 'accelerations_device',\n",
       " 'orientations_calib',\n",
       " 'orientations_ecef',\n",
       " 'angular_velocities_calib',\n",
       " 'angular_velocities_device',\n",
       " 'times',\n",
       " 'orientations_euler',\n",
       " 'positions_device']"
      ]
     },
     "execution_count": 104,
     "metadata": {},
     "output_type": "execute_result"
    }
   ],
   "source": [
    "list(ground_truths.keys())"
   ]
  },
  {
   "cell_type": "code",
   "execution_count": 107,
   "id": "6e4ac935",
   "metadata": {},
   "outputs": [
    {
     "name": "stdout",
     "output_type": "stream",
     "text": [
      "(1200, 1200, 3)\n",
      "(1200, 4)\n"
     ]
    }
   ],
   "source": [
    "print(ground_truths['positions_device'].shape)\n",
    "print(ground_truths['orientations_euler'].shape)                    "
   ]
  }
 ],
 "metadata": {
  "kernelspec": {
   "display_name": "Python 3 (ipykernel)",
   "language": "python",
   "name": "python3"
  },
  "language_info": {
   "codemirror_mode": {
    "name": "ipython",
    "version": 3
   },
   "file_extension": ".py",
   "mimetype": "text/x-python",
   "name": "python",
   "nbconvert_exporter": "python",
   "pygments_lexer": "ipython3",
   "version": "3.8.10"
  }
 },
 "nbformat": 4,
 "nbformat_minor": 5
}
