{
 "cells": [
  {
   "cell_type": "code",
   "execution_count": 1,
   "metadata": {},
   "outputs": [],
   "source": [
    "import h5py"
   ]
  },
  {
   "cell_type": "code",
   "execution_count": 9,
   "metadata": {},
   "outputs": [
    {
     "name": "stdout",
     "output_type": "stream",
     "text": [
      "plans: (20, 5, 2, 33, 15)\n",
      "plans_prob: (20, 5)\n",
      "lanelines: (20, 4, 33, 2)\n",
      "laneline_probs: (20, 4)\n",
      "road_edges: (20, 2, 33, 2)\n",
      "road_edge_stds: (20, 2, 33, 2)\n"
     ]
    }
   ],
   "source": [
    "obj = h5py.File('/home/nikita/data/2021-09-07--08-22-59/12/gt_hacky.h5', 'r')\n",
    "\n",
    "\n",
    "\n",
    "print('plans:', obj['plans'].shape)\n",
    "print('plans_prob:', obj['plans_prob'].shape)\n",
    "print('lanelines:', obj['lanelines'].shape)\n",
    "print('laneline_probs:', obj['laneline_probs'].shape)\n",
    "print('road_edges:', obj['road_edges'].shape)\n",
    "print('road_edge_stds:', obj['road_edge_stds'].shape)"
   ]
  },
  {
   "cell_type": "code",
   "execution_count": 17,
   "metadata": {},
   "outputs": [
    {
     "data": {
      "text/plain": [
       "[array([ 0.3179357, -1.9783306], dtype=float32),\n",
       " array([ 0.31542248, -1.9790859 ], dtype=float32),\n",
       " array([ 0.31256965, -1.9839935 ], dtype=float32),\n",
       " array([ 0.3120605, -1.9924983], dtype=float32),\n",
       " array([ 0.3044745, -2.0027611], dtype=float32),\n",
       " array([ 0.30142158, -2.014704  ], dtype=float32),\n",
       " array([ 0.2948517, -2.0286965], dtype=float32),\n",
       " array([ 0.29091185, -2.0439563 ], dtype=float32),\n",
       " array([ 0.28784576, -2.0569525 ], dtype=float32),\n",
       " array([ 0.2935085, -2.0749474], dtype=float32),\n",
       " array([ 0.3110373, -2.0812414], dtype=float32),\n",
       " array([ 0.3412138, -2.0708995], dtype=float32),\n",
       " array([ 0.37394065, -2.0383778 ], dtype=float32),\n",
       " array([ 0.40075782, -1.9825091 ], dtype=float32),\n",
       " array([ 0.43483594, -1.9164228 ], dtype=float32),\n",
       " array([ 0.47027788, -1.8545882 ], dtype=float32),\n",
       " array([ 0.5098448, -1.7913396], dtype=float32),\n",
       " array([ 0.55374855, -1.721144  ], dtype=float32),\n",
       " array([ 0.5955494, -1.6523952], dtype=float32),\n",
       " array([ 0.6410093, -1.5786542], dtype=float32),\n",
       " array([ 0.6879745, -1.506954 ], dtype=float32),\n",
       " array([ 0.73481  , -1.4355631], dtype=float32),\n",
       " array([ 0.778471 , -1.3623259], dtype=float32),\n",
       " array([ 0.82607496, -1.2880874 ], dtype=float32),\n",
       " array([ 0.872221 , -1.2136757], dtype=float32),\n",
       " array([ 0.9230745, -1.140972 ], dtype=float32),\n",
       " array([ 0.9736689, -1.0679846], dtype=float32),\n",
       " array([ 1.0254287, -0.9912685], dtype=float32),\n",
       " array([ 1.0864273 , -0.91480887], dtype=float32),\n",
       " array([ 1.1484419 , -0.83727753], dtype=float32),\n",
       " array([ 1.2178786, -0.7569847], dtype=float32),\n",
       " array([ 1.297875, -0.67198 ], dtype=float32),\n",
       " array([ 1.3855189, -0.5834358], dtype=float32)]"
      ]
     },
     "execution_count": 17,
     "metadata": {},
     "output_type": "execute_result"
    }
   ],
   "source": [
    "list(obj['road_edge_stds'][0, 0, :])"
   ]
  },
  {
   "cell_type": "code",
   "execution_count": null,
   "metadata": {},
   "outputs": [],
   "source": []
  }
 ],
 "metadata": {
  "interpreter": {
   "hash": "502b2082a03da827e4d45daf792504142f6621507873a9075db59c3487ea81e5"
  },
  "kernelspec": {
   "display_name": "Python 3.8.12 64-bit ('comma': conda)",
   "language": "python",
   "name": "python3"
  },
  "language_info": {
   "codemirror_mode": {
    "name": "ipython",
    "version": 3
   },
   "file_extension": ".py",
   "mimetype": "text/x-python",
   "name": "python",
   "nbconvert_exporter": "python",
   "pygments_lexer": "ipython3",
   "version": "3.8.12"
  },
  "orig_nbformat": 4
 },
 "nbformat": 4,
 "nbformat_minor": 2
}
